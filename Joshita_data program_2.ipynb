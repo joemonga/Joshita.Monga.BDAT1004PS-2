{
 "cells": [
  {
   "cell_type": "markdown",
   "id": "39f01c0e",
   "metadata": {},
   "source": [
    "# Q1: What value is displayed when the last expression (a) is evaluated? Explain your answer by indicating what happens in every executed statement."
   ]
  },
  {
   "cell_type": "code",
   "execution_count": 1,
   "id": "0a186eb6",
   "metadata": {},
   "outputs": [
    {
     "data": {
      "text/plain": [
       "6"
      ]
     },
     "execution_count": 1,
     "metadata": {},
     "output_type": "execute_result"
    }
   ],
   "source": [
    "a = 0\n",
    "def b():\n",
    " global a\n",
    " a = c(a)\n",
    "def c(a):\n",
    " return a + 2\n",
    "\n",
    "b() #b is called for the 1st time\n",
    "b() #b is called for the 2nd time, a=a+2= 4\n",
    "b() #b is called for the 3rd time, i.e a=a+2 where 4+2=6\n",
    "a"
   ]
  },
  {
   "cell_type": "markdown",
   "id": "ba946b2b",
   "metadata": {},
   "source": [
    "# Q2: If the file cannot be found by the interpreter or if it cannot be readas a text file, an exception will be raised. Modify function fileLength() so that a friendly message is printed instead:"
   ]
  },
  {
   "cell_type": "code",
   "execution_count": 2,
   "id": "6c2693aa",
   "metadata": {},
   "outputs": [],
   "source": [
    "def file_length(file):\n",
    "    \n",
    "    try:                          # looks for the file and returns the length if found\n",
    "        file = open(file)\n",
    "        contents = file.read()\n",
    "        file.close()\n",
    "        print(len(contents))\n",
    "    \n",
    "    except:                       # if file doesnt exist then it will print the error stating \"file can not be found\"\n",
    "        print('File {} not found.'.format(file))"
   ]
  },
  {
   "cell_type": "code",
   "execution_count": 3,
   "id": "1fb0b3fc",
   "metadata": {},
   "outputs": [
    {
     "name": "stdout",
     "output_type": "stream",
     "text": [
      "File Filelength.txt not found.\n"
     ]
    }
   ],
   "source": [
    "file_length('Filelength.txt')"
   ]
  },
  {
   "cell_type": "code",
   "execution_count": 4,
   "id": "b90c60a6",
   "metadata": {},
   "outputs": [
    {
     "name": "stdout",
     "output_type": "stream",
     "text": [
      "File Filelngth.txt not found.\n"
     ]
    }
   ],
   "source": [
    "file_length('Filelngth.txt')"
   ]
  },
  {
   "cell_type": "markdown",
   "id": "34b6b5ba",
   "metadata": {},
   "source": [
    "# Q3: Write a class named Marsupial that can be used as shown below:\n",
    "# >>> m = Marsupial()\n",
    "# >>> m.put_in_pouch('doll')\n",
    "# >>> m.put_in_pouch('firetruck')\n",
    "# >>> m.put_in_pouch('kitten')\n",
    "# >>> m.pouch_contents()\n",
    "# ['doll', 'firetruck', 'kitten']"
   ]
  },
  {
   "cell_type": "code",
   "execution_count": 5,
   "id": "f148182c",
   "metadata": {},
   "outputs": [],
   "source": [
    "class Marsupial:          \n",
    "    def __init__(self,x,y):             \n",
    "        self.pouch=[]                        \n",
    "    def put_in_pouch(self,items): \n",
    "        self.pouch.append(items)   \n",
    "    def pouch_contents(self):          \n",
    "        return self.pouch\n",
    "\n",
    "class Kangaroo(Marsupial):              \n",
    "    def __init__(self,x,y):              \n",
    "        super().__init__(x,y)          \n",
    "        self.dx = 0                      \n",
    "        self.dy = 0                        \n",
    "    def jump(self,x,y):                 \n",
    "        self.dx = self.dx + x                \n",
    "        self.dy = self.dy + y\n",
    "    def __str__(self):                                                      \n",
    "        return ('I am a Kangaroo located at coordinates({},{})'.format(self.dx,self.dy))"
   ]
  },
  {
   "cell_type": "code",
   "execution_count": 6,
   "id": "59ce31fd",
   "metadata": {},
   "outputs": [],
   "source": [
    " k = Kangaroo(0,0)"
   ]
  },
  {
   "cell_type": "code",
   "execution_count": 7,
   "id": "8d45c7d5",
   "metadata": {},
   "outputs": [
    {
     "name": "stdout",
     "output_type": "stream",
     "text": [
      "I am a Kangaroo located at coordinates(0,0)\n"
     ]
    }
   ],
   "source": [
    "print(k)"
   ]
  },
  {
   "cell_type": "code",
   "execution_count": 8,
   "id": "1eac1603",
   "metadata": {},
   "outputs": [],
   "source": [
    " k.put_in_pouch('doll')"
   ]
  },
  {
   "cell_type": "code",
   "execution_count": 9,
   "id": "ca8a958f",
   "metadata": {},
   "outputs": [],
   "source": [
    " k.put_in_pouch('firetruck')"
   ]
  },
  {
   "cell_type": "code",
   "execution_count": 10,
   "id": "d703b924",
   "metadata": {},
   "outputs": [],
   "source": [
    " k.put_in_pouch('kitten')"
   ]
  },
  {
   "cell_type": "code",
   "execution_count": 11,
   "id": "a6034400",
   "metadata": {},
   "outputs": [
    {
     "data": {
      "text/plain": [
       "['doll', 'firetruck', 'kitten']"
      ]
     },
     "execution_count": 11,
     "metadata": {},
     "output_type": "execute_result"
    }
   ],
   "source": [
    " k.pouch_contents()"
   ]
  },
  {
   "cell_type": "code",
   "execution_count": 12,
   "id": "db9c6f01",
   "metadata": {},
   "outputs": [
    {
     "name": "stdout",
     "output_type": "stream",
     "text": [
      "I am a Kangaroo located at coordinates(3,0)\n"
     ]
    }
   ],
   "source": [
    "k.jump(1,0)\n",
    "k.jump(1,0)\n",
    "k.jump(1,0)\n",
    "print(k)"
   ]
  },
  {
   "cell_type": "markdown",
   "id": "85127c42",
   "metadata": {},
   "source": [
    "# Q4: Write function collatz() that takes a positive integer x as input and prints the Collatz sequence starting at x. A Collatz sequence is obtained by repeatedly applying\n",
    "## this rule to the previous number x in the sequence:\n",
    "## x = {\n",
    "## 𝑥/2 𝑖𝑓 𝑥 𝑖𝑠 𝑒𝑣𝑒𝑛\n",
    "## 3𝑥 + 1 𝑖𝑓 𝑥 𝑖𝑠 𝑜𝑑𝑑\n",
    "## Your function should stop when the sequence gets to number 1. Your\n",
    "## implementation must be recursive, without any loops."
   ]
  },
  {
   "cell_type": "code",
   "execution_count": 13,
   "id": "02d877ae",
   "metadata": {},
   "outputs": [
    {
     "name": "stdout",
     "output_type": "stream",
     "text": [
      "10\n",
      "5\n",
      "16\n",
      "8\n",
      "4\n",
      "2\n",
      "1\n"
     ]
    }
   ],
   "source": [
    "def collatz(n):\n",
    "    \n",
    "    if n== 1:\n",
    "        print(int(n))\n",
    "        \n",
    "    elif n%2 == 0:\n",
    "            print(int(n))\n",
    "            return collatz(n/2)\n",
    "            \n",
    "    else:\n",
    "            print(int(n))\n",
    "            collatz((3*n) + 1)\n",
    "            \n",
    "collatz(10)"
   ]
  },
  {
   "cell_type": "markdown",
   "id": "07ee36e3",
   "metadata": {},
   "source": [
    "# Q5: Write a recursive method binary() that takes a non-negative integer n and prints the binary representation of integer n.\n",
    "\n",
    "## binary(0) = 0\n",
    "## binary(1) = 1\n",
    "## binary(3) = 11\n",
    "## binary(9) = 1001"
   ]
  },
  {
   "cell_type": "code",
   "execution_count": 14,
   "id": "a166ce0b",
   "metadata": {},
   "outputs": [
    {
     "name": "stdout",
     "output_type": "stream",
     "text": [
      "1001"
     ]
    }
   ],
   "source": [
    "def binary(i):    #defining binary method which takes non-negative integer(i)\n",
    "    if i == 0:\n",
    "        return 0\n",
    "    else:\n",
    "        binary(i//2)\n",
    "    print(i % 2,end = '')\n",
    "\n",
    "\n",
    "binary(9)"
   ]
  },
  {
   "cell_type": "markdown",
   "id": "56b837c0",
   "metadata": {},
   "source": [
    "# Q6: Implement a class named HeadingParser that can be used to parse an HTML document, and retrieve and print all the headings in the document. You should implement your class as a subclass of HTMLParser, defined in Standard Library module html.parser. When fed a string containing HTML code, your class should print the headings, one per line and in the order in which they appear in the document. Each heading should be indented as follows: an h1 heading should have indentation 0, and h2 heading should have indentation 1, etc. Test your implementation using w3c.html.\n",
    "\n",
    "## infile = open('w3c.html')\n",
    "## content = infile.read()\n",
    "## infile.close()\n",
    "## hp = HeadingParser()\n",
    "## hp.feed(content)\n",
    "## W3C Mission\n",
    "## Principles"
   ]
  },
  {
   "cell_type": "code",
   "execution_count": 35,
   "id": "ca83311c",
   "metadata": {},
   "outputs": [
    {
     "name": "stdout",
     "output_type": "stream",
     "text": [
      "  W3C Mission \n",
      "  \n",
      "\t \n",
      "   Principles \n",
      "   \n",
      " \n",
      "\n",
      "\n",
      " \n"
     ]
    }
   ],
   "source": [
    "from html.parser import HTMLParser            #defining library module html.parser and importing library\n",
    "\n",
    "f = open(r'w3c.html')     \n",
    "a=str(f.read())\n",
    "\n",
    "class HeadingParser(HTMLParser):         # HeadingParser class as subclass of HTMLParser\n",
    "  \n",
    "    def __init__(self):                    \n",
    "        HTMLParser.__init__(self)\n",
    "        self.flag = 0 \n",
    "    \n",
    "    def handle_starttag(self, tag, attrs):                     \n",
    "        \n",
    "        if tag == 'h1' or tag == 'h2' or tag == 'h3' or tag == 'h4' or tag=='h5' or tag == 'h6' or tag == 'h7':\n",
    "            self.flag += 1                                     \n",
    "        else:\n",
    "            self.flag = 0\n",
    "            \n",
    "    def handle_data(self, data):            # function to print the heading of html\n",
    "        if self.flag and data!='\\n':\n",
    "            \n",
    "            print('{} {} '.format(self.flag*' ', data))\n",
    "\n",
    "\n",
    "parser = HeadingParser()                            #calling the class HeadingParser\n",
    "parser.feed(a)"
   ]
  },
  {
   "cell_type": "markdown",
   "id": "d7dd4b89",
   "metadata": {},
   "source": [
    "# Q7: Implement recursive function webdir() that takes as input: a URL (as a string) and non-negative integers depth and indent. Your function should visit every webpage reachable from the starting URL web page in depth clicks or less, and print each web page's URL. As shown below, indentation, specified by indent, should be used to indicate the depth of a URL."
   ]
  },
  {
   "cell_type": "code",
   "execution_count": 16,
   "id": "553561eb",
   "metadata": {},
   "outputs": [],
   "source": [
    "from urllib.parse import urljoin\n",
    "from urllib.request import urlopen\n",
    "from html.parser import HTMLParser\n",
    "\n",
    "class Collector(HTMLParser): #collects hyperlink \n",
    "\n",
    "    def __init__(self, url): #initializes parser, the url, and a list\n",
    "        HTMLParser.__init__(self)\n",
    "        self.url = url\n",
    "        self.links = []\n",
    "\n",
    "    def handle_starttag(self, tag, attrs): #collects hyperlink URLs in their absolute format\n",
    "        if tag == 'a':\n",
    "            for attr in attrs:\n",
    "                if attr[0] == 'href':\n",
    "                    # construct absolute URL\n",
    "                    absolute = urljoin(self.url, attr[1])\n",
    "                    if absolute[:4] == 'http':\n",
    "                        self.links.append(absolute)\n",
    "                        \n",
    "    def getLinks(self): #'returns hyperlinks URLs in their absolute format'\n",
    "        return self.links"
   ]
  },
  {
   "cell_type": "code",
   "execution_count": 17,
   "id": "a7256609",
   "metadata": {},
   "outputs": [],
   "source": [
    "def webdir(url, depth, indent):\n",
    "    #'Recursive method to find the list of links based on depth value'\n",
    "    \n",
    "    try:\n",
    "        depth_value = int(depth)\n",
    "        indent_value = int(indent)\n",
    "        \n",
    "        if depth_value < 0 or indent_value < 0:      \n",
    "            raise ValueError\n",
    "            \n",
    "        resource = urlopen(url)\n",
    "        content = resource.read().decode()\n",
    "        collector = Collector(url)\n",
    "        collector.feed(content)\n",
    "        links = collector.getLinks()                #Gets all the links present in a URL\n",
    "\n",
    "        if indent_value == 0:\n",
    "            print('{}'.format(url))\n",
    "\n",
    "        indent_value += 4\n",
    "        depth_value = depth_value-1\n",
    "        \n",
    "        if depth_value >= 0:\n",
    "            for link in links:                          #Loops all the links\n",
    "                print('{}{}'.format(indent_value*' ', link), end = '\\n')\n",
    "                if (depth_value) > 0: \n",
    "                    webdir(link, depth_value, indent_value)          \n",
    "                \n",
    "    except ValueError:\n",
    "        print(\"Enter a correct value for depth or indent\")"
   ]
  },
  {
   "cell_type": "code",
   "execution_count": 18,
   "id": "5c4ea2ee",
   "metadata": {},
   "outputs": [
    {
     "name": "stdout",
     "output_type": "stream",
     "text": [
      "http://reed.cs.depaul.edu/lperkovic/one.html\n",
      "    http://reed.cs.depaul.edu/lperkovic/two.html\n",
      "        http://reed.cs.depaul.edu/lperkovic/four.html\n",
      "    http://reed.cs.depaul.edu/lperkovic/three.html\n",
      "        http://reed.cs.depaul.edu/lperkovic/four.html\n"
     ]
    }
   ],
   "source": [
    "webdir('http://reed.cs.depaul.edu/lperkovic/one.html', 2, 0)\n",
    "     \n",
    "    ##https://reed.cs.depaul.edu/lperkovic/test1.html"
   ]
  },
  {
   "cell_type": "markdown",
   "id": "6ed62c8e",
   "metadata": {},
   "source": [
    "# Q8: Write SQL queries on the below database table that return:\n",
    "## a) All the temperature data.\n",
    "## b) All the cities, but without repetition.\n",
    "## c) All the records for India.\n",
    "## d) All the Fall records.\n",
    "## e) The city, country, and season for which the average rainfall is between 200 and 400 millimeters.\n",
    "## f) The city and country for which the average Fall temperature is above 20 degrees, in increasing temperature order.\n",
    "## g) The total annual rainfall for Cairo.\n",
    "## h) The total rainfall for each season"
   ]
  },
  {
   "cell_type": "code",
   "execution_count": 19,
   "id": "b249ba13",
   "metadata": {},
   "outputs": [
    {
     "data": {
      "text/plain": [
       "<sqlite3.Cursor at 0x7ff26c600500>"
      ]
     },
     "execution_count": 19,
     "metadata": {},
     "output_type": "execute_result"
    }
   ],
   "source": [
    "import sqlite3\n",
    "con = sqlite3.connect('DBfile.db')\n",
    "cur = con.cursor()\n",
    "cur.execute(\"CREATE TABLE Weather (City text, Country text, Season text,Temperature float,Rainfall float)\")\n",
    "cur.execute(\"INSERT INTO Weather VALUES ('Mumbai', 'India', 'Winter',24.8,5.9)\")\n",
    "cur.execute(\"INSERT INTO Weather VALUES ('Mumbai', 'India', 'Spring',28.4,16.2)\")\n",
    "cur.execute(\"INSERT INTO Weather VALUES ('Mumbai', 'India', 'Summer',27.9,1549.4 )\")\n",
    "cur.execute(\"INSERT INTO Weather VALUES ('Mumbai', 'India', 'Fall',27.6,346.0)\")\n",
    "cur.execute(\"INSERT INTO Weather VALUES ('London', 'United Kingdom', 'Winter',4.2,207.7 )\")\n",
    "cur.execute(\"INSERT INTO Weather VALUES ('London', 'United Kingdom', 'Spring',8.3,169.6)\")\n",
    "cur.execute(\"INSERT INTO Weather VALUES ('London', 'United Kingdom', 'Summer',15.7,157.0)\")\n",
    "cur.execute(\"INSERT INTO Weather VALUES ('London', 'United Kingdom', 'Fall',10.4,218.5)\")\n",
    "cur.execute(\"INSERT INTO Weather VALUES ('Cairo', 'Egypt', 'Winter',13.6,16.5)\")\n",
    "cur.execute(\"INSERT INTO Weather VALUES ('Cairo', 'Egypt', 'Spring',20.7,6.5)\")\n",
    "cur.execute(\"INSERT INTO Weather VALUES ('Cairo', 'Egypt', 'Summer',27.7,0.1)\")\n",
    "cur.execute(\"INSERT INTO Weather VALUES ('Cairo', 'Egypt', 'Fall',22.2,4.5)\")"
   ]
  },
  {
   "cell_type": "code",
   "execution_count": 20,
   "id": "9a322760",
   "metadata": {},
   "outputs": [
    {
     "data": {
      "text/plain": [
       "[('Mumbai', 'India', 'Winter', 24.8, 5.9),\n",
       " ('Mumbai', 'India', 'Spring', 28.4, 16.2),\n",
       " ('Mumbai', 'India', 'Summer', 27.9, 1549.4),\n",
       " ('Mumbai', 'India', 'Fall', 27.6, 346.0),\n",
       " ('London', 'United Kingdom', 'Winter', 4.2, 207.7),\n",
       " ('London', 'United Kingdom', 'Spring', 8.3, 169.6),\n",
       " ('London', 'United Kingdom', 'Summer', 15.7, 157.0),\n",
       " ('London', 'United Kingdom', 'Fall', 10.4, 218.5),\n",
       " ('Cairo', 'Egypt', 'Winter', 13.6, 16.5),\n",
       " ('Cairo', 'Egypt', 'Spring', 20.7, 6.5),\n",
       " ('Cairo', 'Egypt', 'Summer', 27.7, 0.1),\n",
       " ('Cairo', 'Egypt', 'Fall', 22.2, 4.5)]"
      ]
     },
     "execution_count": 20,
     "metadata": {},
     "output_type": "execute_result"
    }
   ],
   "source": [
    "cur.execute('SELECT * FROM Weather')\n",
    "cur.fetchall()"
   ]
  },
  {
   "cell_type": "code",
   "execution_count": 21,
   "id": "a8f129ce",
   "metadata": {},
   "outputs": [
    {
     "data": {
      "text/plain": [
       "[(24.8,),\n",
       " (28.4,),\n",
       " (27.9,),\n",
       " (27.6,),\n",
       " (4.2,),\n",
       " (8.3,),\n",
       " (15.7,),\n",
       " (10.4,),\n",
       " (13.6,),\n",
       " (20.7,),\n",
       " (27.7,),\n",
       " (22.2,)]"
      ]
     },
     "execution_count": 21,
     "metadata": {},
     "output_type": "execute_result"
    }
   ],
   "source": [
    "cur.execute('SELECT temperature FROM Weather')\n",
    "cur.fetchall()"
   ]
  },
  {
   "cell_type": "code",
   "execution_count": 22,
   "id": "3bc07a95",
   "metadata": {},
   "outputs": [
    {
     "data": {
      "text/plain": [
       "[('Mumbai',), ('London',), ('Cairo',)]"
      ]
     },
     "execution_count": 22,
     "metadata": {},
     "output_type": "execute_result"
    }
   ],
   "source": [
    "cur.execute('SELECT DISTINCT City FROM Weather')\n",
    "cur.fetchall()"
   ]
  },
  {
   "cell_type": "code",
   "execution_count": 23,
   "id": "ac66306b",
   "metadata": {},
   "outputs": [
    {
     "data": {
      "text/plain": [
       "[('Mumbai', 'India', 'Winter', 24.8, 5.9),\n",
       " ('Mumbai', 'India', 'Spring', 28.4, 16.2),\n",
       " ('Mumbai', 'India', 'Summer', 27.9, 1549.4),\n",
       " ('Mumbai', 'India', 'Fall', 27.6, 346.0)]"
      ]
     },
     "execution_count": 23,
     "metadata": {},
     "output_type": "execute_result"
    }
   ],
   "source": [
    "cur.execute(\"SELECT * FROM Weather WHERE Country='India'\")\n",
    "cur.fetchall()"
   ]
  },
  {
   "cell_type": "code",
   "execution_count": 24,
   "id": "6e6cd29b",
   "metadata": {},
   "outputs": [
    {
     "data": {
      "text/plain": [
       "[('Mumbai', 'India', 'Fall', 27.6, 346.0),\n",
       " ('London', 'United Kingdom', 'Fall', 10.4, 218.5),\n",
       " ('Cairo', 'Egypt', 'Fall', 22.2, 4.5)]"
      ]
     },
     "execution_count": 24,
     "metadata": {},
     "output_type": "execute_result"
    }
   ],
   "source": [
    "cur.execute(\"SELECT * FROM Weather WHERE Season='Fall'\")\n",
    "cur.fetchall()"
   ]
  },
  {
   "cell_type": "code",
   "execution_count": 25,
   "id": "fabe9e0d",
   "metadata": {},
   "outputs": [
    {
     "data": {
      "text/plain": [
       "[('Mumbai', 'India', 'Fall'),\n",
       " ('London', 'United Kingdom', 'Winter'),\n",
       " ('London', 'United Kingdom', 'Fall')]"
      ]
     },
     "execution_count": 25,
     "metadata": {},
     "output_type": "execute_result"
    }
   ],
   "source": [
    "cur.execute(\"SELECT City,country,Season FROM Weather WHERE Rainfall BETWEEN 200 AND 400\")\n",
    "cur.fetchall()"
   ]
  },
  {
   "cell_type": "code",
   "execution_count": 26,
   "id": "e89e4647",
   "metadata": {},
   "outputs": [
    {
     "data": {
      "text/plain": [
       "[('Cairo', 'Egypt'), ('Mumbai', 'India')]"
      ]
     },
     "execution_count": 26,
     "metadata": {},
     "output_type": "execute_result"
    }
   ],
   "source": [
    "cur.execute(\"SELECT City,country FROM Weather WHERE Season='Fall' AND temperature > 20 ORDER BY temperature ASC\")\n",
    "cur.fetchall()"
   ]
  },
  {
   "cell_type": "code",
   "execution_count": 27,
   "id": "29e588d0",
   "metadata": {},
   "outputs": [
    {
     "data": {
      "text/plain": [
       "[(27.6,)]"
      ]
     },
     "execution_count": 27,
     "metadata": {},
     "output_type": "execute_result"
    }
   ],
   "source": [
    "cur.execute(\"SELECT SUM(Rainfall) FROM Weather WHERE City='Cairo'\")\n",
    "cur.fetchall()"
   ]
  },
  {
   "cell_type": "code",
   "execution_count": 28,
   "id": "e7cd2f0f",
   "metadata": {},
   "outputs": [
    {
     "data": {
      "text/plain": [
       "[(569.0,), (192.29999999999998,), (1706.5,), (230.1,)]"
      ]
     },
     "execution_count": 28,
     "metadata": {},
     "output_type": "execute_result"
    }
   ],
   "source": [
    "cur.execute(\"SELECT SUM(Rainfall) FROM Weather GROUP BY Season\")\n",
    "cur.fetchall()"
   ]
  },
  {
   "cell_type": "markdown",
   "id": "c0263f8e",
   "metadata": {},
   "source": [
    "# Q9: Suppose list words is defined as follows:\n",
    "## >>> words = ['The', 'quick', 'brown', 'fox', 'jumps', 'over', 'the', 'lazy', 'dog']\n",
    "## Write list comprehension expressions that use list words and generate the following lists:\n",
    "## a) ['THE', 'QUICK', 'BROWN', 'FOX', 'JUMPS', 'OVER', 'THE','LAZY', 'DOG']\n",
    "## b) ['the', 'quick', 'brown', 'fox', 'jumps', 'over', 'the','lazy', 'dog']\n",
    "## c) [3, 5, 5, 3, 5, 4, 3, 4, 3] (the list of lengths of words in list words).\n",
    "## d) [['THE', 'the', 3], ['QUICK', 'quick', 5], ['BROWN','brown', 5], ['FOX', 'fox', 3], ['JUMPS', 'jumps', 5],['OVER', 'over', 4], ['THE', 'the', 3], ['LAZY', 'lazy',4], ['DOG', 'dog', 3]] (the list containing a list for every word of list words, where each list contains the word in uppercase and lowercase and the length of the word.)\n",
    "## e) ['The', 'quick', 'brown', 'fox', 'jumps', 'over', 'the', 'lazy', 'dog'] (the list of words in list words containing 4 or more characters.)"
   ]
  },
  {
   "cell_type": "code",
   "execution_count": 29,
   "id": "98427ecd",
   "metadata": {},
   "outputs": [
    {
     "name": "stdout",
     "output_type": "stream",
     "text": [
      "['THE', 'QUICK', 'BROWN', 'FOX', 'JUMPS', 'OVER', 'THE', 'LAZY', 'DOG']\n"
     ]
    }
   ],
   "source": [
    "words = ['The', 'quick', 'brown', 'fox', 'jumps', 'over', 'the', 'lazy', 'dog']\n",
    "\n",
    "Upperlist = [word.upper() for word in words]\n",
    "print(Upperlist)"
   ]
  },
  {
   "cell_type": "code",
   "execution_count": 30,
   "id": "751f8d33",
   "metadata": {},
   "outputs": [
    {
     "name": "stdout",
     "output_type": "stream",
     "text": [
      "['the', 'quick', 'brown', 'fox', 'jumps', 'over', 'the', 'lazy', 'dog']\n"
     ]
    }
   ],
   "source": [
    "Lowerlist = [word.lower() for word in words]\n",
    "print(Lowerlist)"
   ]
  },
  {
   "cell_type": "code",
   "execution_count": 31,
   "id": "61608170",
   "metadata": {},
   "outputs": [
    {
     "name": "stdout",
     "output_type": "stream",
     "text": [
      "[3, 5, 5, 3, 5, 4, 3, 4, 3]\n"
     ]
    }
   ],
   "source": [
    "Lengthlist = [ len(word) for word in words]\n",
    "print(Lengthlist)"
   ]
  },
  {
   "cell_type": "code",
   "execution_count": 32,
   "id": "e38d1654",
   "metadata": {},
   "outputs": [
    {
     "name": "stdout",
     "output_type": "stream",
     "text": [
      "[['THE', 'the', 3], ['QUICK', 'quick', 5], ['BROWN', 'brown', 5], ['FOX', 'fox', 3], ['JUMPS', 'jumps', 5], ['OVER', 'over', 4], ['THE', 'the', 3], ['LAZY', 'lazy', 4], ['DOG', 'dog', 3]]\n"
     ]
    }
   ],
   "source": [
    "List = [ [word.upper(), word.lower(), len(word)] for word in words]\n",
    "print(List)"
   ]
  },
  {
   "cell_type": "code",
   "execution_count": 33,
   "id": "bad05325",
   "metadata": {},
   "outputs": [
    {
     "name": "stdout",
     "output_type": "stream",
     "text": [
      "['quick', 'brown', 'jumps', 'over', 'lazy']\n"
     ]
    }
   ],
   "source": [
    "List4Words = [word for word in words if len(word)>= 4]\n",
    "print(List4Words)"
   ]
  },
  {
   "cell_type": "code",
   "execution_count": null,
   "id": "8fdc028e",
   "metadata": {},
   "outputs": [],
   "source": []
  }
 ],
 "metadata": {
  "kernelspec": {
   "display_name": "Python 3 (ipykernel)",
   "language": "python",
   "name": "python3"
  },
  "language_info": {
   "codemirror_mode": {
    "name": "ipython",
    "version": 3
   },
   "file_extension": ".py",
   "mimetype": "text/x-python",
   "name": "python",
   "nbconvert_exporter": "python",
   "pygments_lexer": "ipython3",
   "version": "3.9.12"
  }
 },
 "nbformat": 4,
 "nbformat_minor": 5
}
